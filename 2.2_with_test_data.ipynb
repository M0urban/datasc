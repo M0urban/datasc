{
  "metadata": {
    "kernelspec": {
      "language": "python",
      "display_name": "Python 3",
      "name": "python3"
    },
    "language_info": {
      "name": "python",
      "version": "3.10.10",
      "mimetype": "text/x-python",
      "codemirror_mode": {
        "name": "ipython",
        "version": 3
      },
      "pygments_lexer": "ipython3",
      "nbconvert_exporter": "python",
      "file_extension": ".py"
    },
    "colab": {
      "provenance": []
    }
  },
  "nbformat_minor": 0,
  "nbformat": 4,
  "cells": [
    {
      "cell_type": "code",
      "source": [
        "# This Python 3 environment comes with many helpful analytics libraries installed\n",
        "# It is defined by the kaggle/python Docker image: https://github.com/kaggle/docker-python\n",
        "# For example, here's several helpful packages to load\n",
        "\n",
        "import numpy as np # linear algebra\n",
        "import pandas as pd # data processing, CSV file I/O (e.g. pd.read_csv)\n",
        "\n",
        "# Input data files are available in the read-only \"../input/\" directory\n",
        "# For example, running this (by clicking run or pressing Shift+Enter) will list all files under the input directory\n",
        "\n",
        "import os\n",
        "for dirname, _, filenames in os.walk('/kaggle/input'):\n",
        "    for filename in filenames:\n",
        "        print(os.path.join(dirname, filename))\n",
        "\n",
        "# You can write up to 20GB to the current directory (/kaggle/working/) that gets preserved as output when you create a version using \"Save & Run All\"\n",
        "# You can also write temporary files to /kaggle/temp/, but they won't be saved outside of the current session"
      ],
      "metadata": {
        "_uuid": "8f2839f25d086af736a60e9eeb907d3b93b6e0e5",
        "_cell_guid": "b1076dfc-b9ad-4769-8c92-a6c4dae69d19",
        "execution": {
          "iopub.status.busy": "2023-06-09T20:46:55.348320Z",
          "iopub.execute_input": "2023-06-09T20:46:55.348770Z",
          "iopub.status.idle": "2023-06-09T20:46:55.359327Z",
          "shell.execute_reply.started": "2023-06-09T20:46:55.348734Z",
          "shell.execute_reply": "2023-06-09T20:46:55.357808Z"
        },
        "trusted": true,
        "id": "dWSiczBK8CoZ"
      },
      "execution_count": null,
      "outputs": []
    },
    {
      "cell_type": "code",
      "source": [
        "!pip install wget"
      ],
      "metadata": {
        "execution": {
          "iopub.status.busy": "2023-06-09T20:46:55.361943Z",
          "iopub.execute_input": "2023-06-09T20:46:55.362391Z",
          "iopub.status.idle": "2023-06-09T20:47:08.512557Z",
          "shell.execute_reply.started": "2023-06-09T20:46:55.362334Z",
          "shell.execute_reply": "2023-06-09T20:47:08.510642Z"
        },
        "trusted": true,
        "colab": {
          "base_uri": "https://localhost:8080/"
        },
        "id": "OqyxUIDU8Coe",
        "outputId": "a28453b3-cc3e-4590-e2fb-d3ca581085ff"
      },
      "execution_count": null,
      "outputs": [
        {
          "output_type": "stream",
          "name": "stdout",
          "text": [
            "Looking in indexes: https://pypi.org/simple, https://us-python.pkg.dev/colab-wheels/public/simple/\n",
            "Collecting wget\n",
            "  Downloading wget-3.2.zip (10 kB)\n",
            "  Preparing metadata (setup.py) ... \u001b[?25l\u001b[?25hdone\n",
            "Building wheels for collected packages: wget\n",
            "  Building wheel for wget (setup.py) ... \u001b[?25l\u001b[?25hdone\n",
            "  Created wheel for wget: filename=wget-3.2-py3-none-any.whl size=9657 sha256=44551c9c54a711543122b868f965e5d506d05c890717ec2ca27598263b71f21b\n",
            "  Stored in directory: /root/.cache/pip/wheels/8b/f1/7f/5c94f0a7a505ca1c81cd1d9208ae2064675d97582078e6c769\n",
            "Successfully built wget\n",
            "Installing collected packages: wget\n",
            "Successfully installed wget-3.2\n"
          ]
        }
      ]
    },
    {
      "cell_type": "code",
      "source": [
        "import os\n",
        "import pandas as pd\n",
        "import random\n",
        "import zipfile"
      ],
      "metadata": {
        "execution": {
          "iopub.status.busy": "2023-06-09T20:47:08.514738Z",
          "iopub.execute_input": "2023-06-09T20:47:08.515175Z",
          "iopub.status.idle": "2023-06-09T20:47:08.522698Z",
          "shell.execute_reply.started": "2023-06-09T20:47:08.515133Z",
          "shell.execute_reply": "2023-06-09T20:47:08.521298Z"
        },
        "trusted": true,
        "id": "WVfs2foH8Cof"
      },
      "execution_count": null,
      "outputs": []
    },
    {
      "cell_type": "code",
      "source": [
        "!python -m wget https://filr.hs-offenburg.de/filr/public-link/file-download/0dcf8b85882ae199018870bceddf437c/5426/-2254907074900866378/test_data.zip"
      ],
      "metadata": {
        "execution": {
          "iopub.status.busy": "2023-06-09T20:47:08.525801Z",
          "iopub.execute_input": "2023-06-09T20:47:08.526588Z",
          "iopub.status.idle": "2023-06-09T20:47:14.741613Z",
          "shell.execute_reply.started": "2023-06-09T20:47:08.526545Z",
          "shell.execute_reply": "2023-06-09T20:47:14.739961Z"
        },
        "trusted": true,
        "colab": {
          "base_uri": "https://localhost:8080/"
        },
        "id": "yBVgiZX38Cog",
        "outputId": "a7b0c373-eea2-4525-a1c6-ece3109ee598"
      },
      "execution_count": null,
      "outputs": [
        {
          "output_type": "stream",
          "name": "stdout",
          "text": [
            "\n",
            "Saved under test_data.zip\n"
          ]
        }
      ]
    },
    {
      "cell_type": "code",
      "source": [
        "!python -m wget https://zenodo.org/record/7869954/files/products_leaflets_256.zip?download=1"
      ],
      "metadata": {
        "execution": {
          "iopub.status.busy": "2023-06-09T20:47:14.744283Z",
          "iopub.execute_input": "2023-06-09T20:47:14.745882Z",
          "iopub.status.idle": "2023-06-09T20:48:23.407129Z",
          "shell.execute_reply.started": "2023-06-09T20:47:14.745819Z",
          "shell.execute_reply": "2023-06-09T20:48:23.405628Z"
        },
        "trusted": true,
        "id": "Ze6dIoM58Coh",
        "colab": {
          "base_uri": "https://localhost:8080/"
        },
        "outputId": "99162332-6b84-4b91-e9de-3ee217d936f5"
      },
      "execution_count": null,
      "outputs": [
        {
          "output_type": "stream",
          "name": "stdout",
          "text": [
            "\n",
            "Saved under products_leaflets_256.zip\n"
          ]
        }
      ]
    },
    {
      "cell_type": "code",
      "source": [
        "path_to_zip_file = 'products_leaflets_256.zip'\n",
        "directory_to_extract_to = '.'\n",
        "with zipfile.ZipFile(path_to_zip_file, 'r') as zip_ref:\n",
        "    zip_ref.extractall(directory_to_extract_to)"
      ],
      "metadata": {
        "execution": {
          "iopub.status.busy": "2023-06-09T20:48:23.409082Z",
          "iopub.execute_input": "2023-06-09T20:48:23.409614Z",
          "iopub.status.idle": "2023-06-09T20:48:41.963247Z",
          "shell.execute_reply.started": "2023-06-09T20:48:23.409572Z",
          "shell.execute_reply": "2023-06-09T20:48:41.961818Z"
        },
        "trusted": true,
        "id": "JiZS91qB8Coh"
      },
      "execution_count": null,
      "outputs": []
    },
    {
      "cell_type": "code",
      "source": [],
      "metadata": {
        "trusted": true,
        "id": "UJQFpEiJ8Coi"
      },
      "execution_count": null,
      "outputs": []
    },
    {
      "cell_type": "code",
      "source": [
        "path_to_zip_file = 'test_data.zip'\n",
        "directory_to_extract_to = '.'\n",
        "with zipfile.ZipFile(path_to_zip_file, 'r') as zip_ref:\n",
        "    zip_ref.extractall(directory_to_extract_to)"
      ],
      "metadata": {
        "execution": {
          "iopub.status.busy": "2023-06-09T20:48:41.964771Z",
          "iopub.execute_input": "2023-06-09T20:48:41.965102Z",
          "iopub.status.idle": "2023-06-09T20:48:42.601581Z",
          "shell.execute_reply.started": "2023-06-09T20:48:41.965067Z",
          "shell.execute_reply": "2023-06-09T20:48:42.597942Z"
        },
        "trusted": true,
        "id": "Ufo6N7-F8Coi"
      },
      "execution_count": null,
      "outputs": []
    },
    {
      "cell_type": "code",
      "source": [],
      "metadata": {
        "execution": {
          "iopub.status.busy": "2023-06-09T20:49:52.107873Z",
          "iopub.execute_input": "2023-06-09T20:49:52.110265Z",
          "iopub.status.idle": "2023-06-09T20:49:52.200293Z",
          "shell.execute_reply.started": "2023-06-09T20:49:52.110171Z",
          "shell.execute_reply": "2023-06-09T20:49:52.197877Z"
        },
        "trusted": true,
        "id": "y3vULfpl8Coi"
      },
      "execution_count": null,
      "outputs": []
    },
    {
      "cell_type": "code",
      "source": [
        "import os\n",
        "import numpy as np\n",
        "from PIL import Image\n",
        "from sklearn.model_selection import train_test_split\n",
        "from keras.models import Sequential\n",
        "from keras.layers import Conv2D, MaxPooling2D, Flatten, Dense\n",
        "\n",
        "# Verzeichnis mit den Trainingsdaten\n",
        "train_directory = 'products_leaflets_256/train'\n",
        "\n",
        "# Bildgröße und Anzahl der Klassen\n",
        "image_size = (128, 128)\n",
        "num_classes = len(os.listdir(train_directory))\n",
        "\n",
        "# Liste für Bilder und Labels\n",
        "images = []\n",
        "labels = []\n",
        "\n",
        "# Durchlaufe das Trainingsverzeichnis und lade die Bilder\n",
        "for root, dirs, files in os.walk(train_directory):\n",
        "    for file in files:\n",
        "        if file.endswith('.jpg'):\n",
        "            image_path = os.path.join(root, file)\n",
        "            image = Image.open(image_path).convert('RGB')\n",
        "            image = image.resize(image_size)\n",
        "            image_array = np.array(image)\n",
        "            images.append(image_array)\n",
        "            labels.append(int(os.path.basename(root)))\n",
        "\n",
        "# Konvertiere die Listen in Numpy-Arrays\n",
        "images = np.array(images)\n",
        "labels = np.array(labels)\n",
        "\n",
        "# Aufteilung der Daten in Trainings- und Validierungssets\n",
        "X_train, X_val, y_train, y_val = train_test_split(images, labels, test_size=0.2, random_state=42)\n",
        "\n",
        "# Erstelle das CNN-Modell mit 3 Layers\n",
        "model = Sequential()\n",
        "model.add(Conv2D(32, (3, 3), activation='relu', input_shape=(image_size[0], image_size[1], 3)))\n",
        "model.add(MaxPooling2D(pool_size=(2, 2)))\n",
        "model.add(Conv2D(64, (3, 3), activation='relu'))\n",
        "model.add(MaxPooling2D(pool_size=(2, 2)))\n",
        "model.add(Flatten())\n",
        "model.add(Dense(128, activation='relu'))\n",
        "model.add(Dense(num_classes, activation='softmax'))\n",
        "\n",
        "# Kompilieren des Modells\n",
        "model.compile(loss='sparse_categorical_crossentropy', optimizer='adam', metrics=['accuracy'])\n",
        "\n",
        "# Trainieren des Modells mit 10 durchläufen\n",
        "model.fit(X_train, y_train, batch_size=32, epochs=10, validation_data=(X_val, y_val))"
      ],
      "metadata": {
        "id": "cf0wCgWd9beC",
        "colab": {
          "base_uri": "https://localhost:8080/"
        },
        "outputId": "5225a313-a730-4bb1-a92e-1d41efc81c8c"
      },
      "execution_count": null,
      "outputs": [
        {
          "output_type": "stream",
          "name": "stdout",
          "text": [
            "Epoch 1/10\n",
            "832/832 [==============================] - 741s 889ms/step - loss: 9.8390 - accuracy: 0.0090 - val_loss: 6.2246 - val_accuracy: 0.0278\n",
            "Epoch 2/10\n",
            "832/832 [==============================] - 737s 886ms/step - loss: 5.8232 - accuracy: 0.0645 - val_loss: 5.8314 - val_accuracy: 0.0741\n",
            "Epoch 3/10\n",
            "832/832 [==============================] - 730s 878ms/step - loss: 4.7410 - accuracy: 0.1771 - val_loss: 5.6889 - val_accuracy: 0.1143\n",
            "Epoch 4/10\n",
            "832/832 [==============================] - 690s 830ms/step - loss: 3.4981 - accuracy: 0.3432 - val_loss: 5.8881 - val_accuracy: 0.1466\n",
            "Epoch 5/10\n",
            "832/832 [==============================] - 688s 827ms/step - loss: 2.4745 - accuracy: 0.5121 - val_loss: 6.7624 - val_accuracy: 0.1529\n",
            "Epoch 6/10\n",
            "832/832 [==============================] - 675s 812ms/step - loss: 1.8411 - accuracy: 0.6294 - val_loss: 7.9838 - val_accuracy: 0.1642\n",
            "Epoch 7/10\n",
            "832/832 [==============================] - 675s 811ms/step - loss: 1.5191 - accuracy: 0.6889 - val_loss: 9.3100 - val_accuracy: 0.1593\n",
            "Epoch 8/10\n",
            "832/832 [==============================] - 713s 857ms/step - loss: 1.3049 - accuracy: 0.7305 - val_loss: 10.0784 - val_accuracy: 0.1725\n",
            "Epoch 9/10\n",
            "832/832 [==============================] - 670s 805ms/step - loss: 1.1264 - accuracy: 0.7657 - val_loss: 10.6403 - val_accuracy: 0.1666\n",
            "Epoch 10/10\n",
            "832/832 [==============================] - 653s 785ms/step - loss: 1.0574 - accuracy: 0.7808 - val_loss: 11.1560 - val_accuracy: 0.1692\n"
          ]
        },
        {
          "output_type": "execute_result",
          "data": {
            "text/plain": [
              "<keras.callbacks.History at 0x7fcd5a45f9a0>"
            ]
          },
          "metadata": {},
          "execution_count": 9
        }
      ]
    },
    {
      "cell_type": "code",
      "source": [
        "# Liste für Bildnamen und Vorhersagen\n",
        "image_names = []\n",
        "label_predictions = []\n",
        "\n",
        "# Durchlaufe das Testverzeichnis und lade die Bilder\n",
        "for root, dirs, files in os.walk(test_directory):\n",
        "    for file in files:\n",
        "        if file.endswith('.jpg'):\n",
        "            image_path = os.path.join(root, file)\n",
        "            image = Image.open(image_path).convert('RGB')\n",
        "            image = image.resize(image_size)\n",
        "            image_array = np.array(image)\n",
        "            image_names.append(file)\n",
        "            label_prediction = model.predict(np.expand_dims(image_array, axis=0))\n",
        "            label_predictions.append(np.argmax(label_prediction))\n",
        "\n",
        "# Erstelle den DataFrame und speichere die Vorhersagen in einer CSV-Datei\n",
        "df = pd.DataFrame(columns=['image_id', 'label'])\n",
        "df['image_id'] = image_names\n",
        "df['label'] = label_predictions\n",
        "df.to_csv('submission.csv', index=False)"
      ],
      "metadata": {
        "id": "OGw5vbNXJbCp"
      },
      "execution_count": null,
      "outputs": []
    },
    {
      "cell_type": "markdown",
      "source": [
        "# Neuer Abschnitt"
      ],
      "metadata": {
        "id": "2f2q0TcFJyxb"
      }
    },
    {
      "cell_type": "code",
      "source": [],
      "metadata": {
        "id": "cg2aNC1xJDdB"
      },
      "execution_count": null,
      "outputs": []
    }
  ]
}